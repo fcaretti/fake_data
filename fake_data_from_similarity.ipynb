{
 "cells": [
  {
   "cell_type": "code",
   "execution_count": 1,
   "id": "3d8f5a01",
   "metadata": {},
   "outputs": [],
   "source": [
    "import numpy as np\n",
    "import scipy.linalg as spla\n",
    "from matplotlib import pyplot as plt\n",
    "import numpy as np\n",
    "import matplotlib.pyplot as plt\n",
    "from matplotlib import colors\n",
    "\n",
    "from sklearn.metrics import euclidean_distances\n"
   ]
  },
  {
   "cell_type": "code",
   "execution_count": 2,
   "id": "fa4baa88",
   "metadata": {},
   "outputs": [],
   "source": [
    "J = 10 #number of patients\n",
    "N = 30 #dimensions of clinical data\n",
    "b = np.random.random_sample(size=(J,J))*2-1\n",
    "S= (b + b.T)/2"
   ]
  },
  {
   "cell_type": "code",
   "execution_count": 3,
   "id": "f4b15cd5",
   "metadata": {},
   "outputs": [],
   "source": [
    "np.fill_diagonal(S, 0)"
   ]
  },
  {
   "cell_type": "markdown",
   "id": "4ed70cf2",
   "metadata": {},
   "source": [
    "# Start from the basics\n"
   ]
  },
  {
   "cell_type": "code",
   "execution_count": 103,
   "id": "5b0d8e2e",
   "metadata": {},
   "outputs": [
    {
     "name": "stdout",
     "output_type": "stream",
     "text": [
      "[[ 1.31599633e+00 -1.01310351e+00]\n",
      " [ 3.45537334e-01  1.01354513e+00]\n",
      " [-1.66153366e+00 -4.41615996e-04]]\n"
     ]
    }
   ],
   "source": [
    "from sklearn.manifold import MDS\n",
    "import numpy as np\n",
    "\n",
    "# create a distance matrix\n",
    "distance_matrix = np.array([[0, 2.236, 3.162], [2.236, 0, 2.236], [3.162, 2.236, 0]])\n",
    "\n",
    "# perform MDS\n",
    "mds = MDS(n_components=2, dissimilarity='precomputed')\n",
    "X_mds = mds.fit_transform(distance_matrix)\n",
    "\n",
    "# print the resulting points\n",
    "print(X_mds)"
   ]
  },
  {
   "cell_type": "code",
   "execution_count": 104,
   "id": "9b814a86",
   "metadata": {},
   "outputs": [],
   "source": [
    "og_points=np.random.normal(size=[J,N])\n",
    "matrix=euclidean_distances(og_points,og_points)"
   ]
  },
  {
   "cell_type": "code",
   "execution_count": 106,
   "id": "65dc98e1",
   "metadata": {},
   "outputs": [],
   "source": [
    "#matrix"
   ]
  },
  {
   "cell_type": "code",
   "execution_count": 107,
   "id": "34dbfb4d",
   "metadata": {},
   "outputs": [],
   "source": [
    "# perform MDS\n",
    "mds = MDS(n_components=N, dissimilarity='precomputed')\n",
    "X_mds = mds.fit_transform(matrix)\n",
    "\n",
    "# print the resulting points\n",
    "#print(X_mds)"
   ]
  },
  {
   "cell_type": "code",
   "execution_count": 108,
   "id": "7b1e8e08",
   "metadata": {},
   "outputs": [],
   "source": [
    "matrix_empirical=euclidean_distances(X_mds,X_mds)"
   ]
  },
  {
   "cell_type": "code",
   "execution_count": 109,
   "id": "a04241b0",
   "metadata": {},
   "outputs": [
    {
     "data": {
      "text/plain": [
       "array([[ 0.        ,  0.00892414,  0.04955492,  0.03854263, -0.01490938,\n",
       "         0.04101155, -0.13952501,  0.02263179,  0.0307666 , -0.01696915],\n",
       "       [ 0.00892414,  0.        ,  0.09384709, -0.06407013,  0.0914712 ,\n",
       "        -0.08878472,  0.01921154, -0.0303711 ,  0.02874046,  0.0226086 ],\n",
       "       [ 0.04955492,  0.09384709,  0.        , -0.054249  , -0.17005157,\n",
       "         0.01823035,  0.09924585,  0.12308782, -0.09955566, -0.04982402],\n",
       "       [ 0.03854263, -0.06407013, -0.054249  ,  0.        ,  0.06077816,\n",
       "        -0.0397959 , -0.08000423,  0.05153138,  0.03505616,  0.09179402],\n",
       "       [-0.01490938,  0.0914712 , -0.17005157,  0.06077816,  0.        ,\n",
       "        -0.01922286,  0.06094715, -0.09964781,  0.04497725,  0.04379081],\n",
       "       [ 0.04101155, -0.08878472,  0.01823035, -0.0397959 , -0.01922286,\n",
       "         0.        ,  0.08995938,  0.00587538, -0.04340655,  0.03532624],\n",
       "       [-0.13952501,  0.01921154,  0.09924585, -0.08000423,  0.06094715,\n",
       "         0.08995938,  0.        , -0.07335762,  0.04713251,  0.05510586],\n",
       "       [ 0.02263179, -0.0303711 ,  0.12308782,  0.05153138, -0.09964781,\n",
       "         0.00587538, -0.07335762,  0.        ,  0.11821791, -0.03919451],\n",
       "       [ 0.0307666 ,  0.02874046, -0.09955566,  0.03505616,  0.04497725,\n",
       "        -0.04340655,  0.04713251,  0.11821791,  0.        , -0.13566074],\n",
       "       [-0.01696915,  0.0226086 , -0.04982402,  0.09179402,  0.04379081,\n",
       "         0.03532624,  0.05510586, -0.03919451, -0.13566074,  0.        ]])"
      ]
     },
     "execution_count": 109,
     "metadata": {},
     "output_type": "execute_result"
    }
   ],
   "source": [
    "matrix_empirical-matrix"
   ]
  },
  {
   "cell_type": "code",
   "execution_count": null,
   "id": "1e34131c",
   "metadata": {},
   "outputs": [],
   "source": []
  }
 ],
 "metadata": {
  "kernelspec": {
   "display_name": "Python 3 (ipykernel)",
   "language": "python",
   "name": "python3"
  },
  "language_info": {
   "codemirror_mode": {
    "name": "ipython",
    "version": 3
   },
   "file_extension": ".py",
   "mimetype": "text/x-python",
   "name": "python",
   "nbconvert_exporter": "python",
   "pygments_lexer": "ipython3",
   "version": "3.9.13"
  }
 },
 "nbformat": 4,
 "nbformat_minor": 5
}
