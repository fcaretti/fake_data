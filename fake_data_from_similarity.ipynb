{
 "cells": [
  {
   "cell_type": "code",
   "execution_count": 1,
   "id": "3d8f5a01",
   "metadata": {},
   "outputs": [],
   "source": [
    "import numpy as np\n",
    "import scipy.linalg as spla\n",
    "from matplotlib import pyplot as plt\n",
    "import numpy as np\n",
    "import matplotlib.pyplot as plt\n",
    "from matplotlib import colors\n",
    "\n",
    "from sklearn.metrics import euclidean_distances\n"
   ]
  },
  {
   "cell_type": "code",
   "execution_count": 122,
   "id": "fa4baa88",
   "metadata": {},
   "outputs": [],
   "source": [
    "J = 10 #number of patients\n",
    "N = 100 #dimensions of clinical data\n",
    "b = np.random.random_sample(size=(J,J))*2-1\n",
    "S= (b + b.T)/2"
   ]
  },
  {
   "cell_type": "code",
   "execution_count": 123,
   "id": "f4b15cd5",
   "metadata": {},
   "outputs": [],
   "source": [
    "np.fill_diagonal(S, 0)"
   ]
  },
  {
   "cell_type": "markdown",
   "id": "92c08ed9",
   "metadata": {},
   "source": [
    "# Start from the basics\n"
   ]
  },
  {
   "cell_type": "code",
   "execution_count": 124,
   "id": "81a834ff",
   "metadata": {},
   "outputs": [],
   "source": [
    "from sklearn.manifold import MDS\n",
    "import numpy as np\n"
   ]
  },
  {
   "cell_type": "code",
   "execution_count": 125,
   "id": "41c171ee",
   "metadata": {},
   "outputs": [],
   "source": [
    "og_points=np.random.poisson(size=[J,N])\n",
    "matrix=euclidean_distances(og_points,og_points)"
   ]
  },
  {
   "cell_type": "code",
   "execution_count": 126,
   "id": "189ea867",
   "metadata": {},
   "outputs": [],
   "source": [
    "#matrix"
   ]
  },
  {
   "cell_type": "code",
   "execution_count": 127,
   "id": "5271ae9f",
   "metadata": {},
   "outputs": [],
   "source": [
    "# perform MDS\n",
    "mds = MDS(n_components=N, dissimilarity='precomputed')\n",
    "X_mds = mds.fit_transform(matrix)\n",
    "\n",
    "# print the resulting points\n",
    "#print(X_mds)"
   ]
  },
  {
   "cell_type": "code",
   "execution_count": 128,
   "id": "fa82ebca",
   "metadata": {},
   "outputs": [],
   "source": [
    "matrix_empirical=euclidean_distances(X_mds,X_mds)"
   ]
  },
  {
   "cell_type": "code",
   "execution_count": 129,
   "id": "62ab6a2d",
   "metadata": {},
   "outputs": [
    {
     "data": {
      "text/plain": [
       "0.2044674494807044"
      ]
     },
     "execution_count": 129,
     "metadata": {},
     "output_type": "execute_result"
    }
   ],
   "source": [
    "np.sum(matrix_empirical-matrix)"
   ]
  },
  {
   "cell_type": "code",
   "execution_count": null,
   "id": "2a011672",
   "metadata": {},
   "outputs": [],
   "source": []
  },
  {
   "cell_type": "code",
   "execution_count": null,
   "id": "07059809",
   "metadata": {},
   "outputs": [],
   "source": []
  }
 ],
 "metadata": {
  "kernelspec": {
   "display_name": "Python 3 (ipykernel)",
   "language": "python",
   "name": "python3"
  },
  "language_info": {
   "codemirror_mode": {
    "name": "ipython",
    "version": 3
   },
   "file_extension": ".py",
   "mimetype": "text/x-python",
   "name": "python",
   "nbconvert_exporter": "python",
   "pygments_lexer": "ipython3",
   "version": "3.9.13"
  }
 },
 "nbformat": 4,
 "nbformat_minor": 5
}
