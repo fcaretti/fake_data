{
 "cells": [
  {
   "cell_type": "code",
   "execution_count": 132,
   "id": "3d8f5a01",
   "metadata": {},
   "outputs": [],
   "source": [
    "from sklearn.manifold import MDS\n",
    "import numpy as np\n",
    "import torch\n",
    "import pandas as pd\n",
    "import random\n",
    "from matplotlib import pyplot as plt\n",
    "\n",
    "from sklearn.metrics import euclidean_distances\n",
    "from sklearn.metrics.pairwise import cosine_similarity\n",
    "import utils as ut\n",
    "import TumorDecon as td\n"
   ]
  },
  {
   "cell_type": "code",
   "execution_count": 2,
   "id": "fa4baa88",
   "metadata": {},
   "outputs": [],
   "source": [
    "J = 10 #number of patients\n",
    "N = 100 #dimensions of clinical data\n",
    "b = np.random.random_sample(size=(J,J))*2-1\n",
    "S= (b + b.T)/2"
   ]
  },
  {
   "cell_type": "code",
   "execution_count": 3,
   "id": "f4b15cd5",
   "metadata": {},
   "outputs": [],
   "source": [
    "np.fill_diagonal(S, 0)"
   ]
  },
  {
   "cell_type": "markdown",
   "id": "92c08ed9",
   "metadata": {},
   "source": [
    "# Start from the basics\n",
    "### From a similarity matrix get some points with that similarity"
   ]
  },
  {
   "cell_type": "code",
   "execution_count": 4,
   "id": "41c171ee",
   "metadata": {},
   "outputs": [],
   "source": [
    "og_points=np.random.poisson(size=[J,N])\n",
    "matrix=euclidean_distances(og_points,og_points)"
   ]
  },
  {
   "cell_type": "code",
   "execution_count": 5,
   "id": "5271ae9f",
   "metadata": {},
   "outputs": [
    {
     "name": "stderr",
     "output_type": "stream",
     "text": [
      "/home/federico/.local/lib/python3.10/site-packages/sklearn/manifold/_mds.py:298: FutureWarning: The default value of `normalized_stress` will change to `'auto'` in version 1.4. To suppress this warning, manually set the value of `normalized_stress`.\n",
      "  warnings.warn(\n"
     ]
    }
   ],
   "source": [
    "# perform MDS\n",
    "X_mds = ut.fake_points_MDS(matrix,N)\n"
   ]
  },
  {
   "cell_type": "code",
   "execution_count": 6,
   "id": "fa82ebca",
   "metadata": {},
   "outputs": [],
   "source": [
    "matrix_empirical=euclidean_distances(X_mds,X_mds)"
   ]
  },
  {
   "cell_type": "code",
   "execution_count": 7,
   "id": "62ab6a2d",
   "metadata": {},
   "outputs": [
    {
     "data": {
      "text/plain": [
       "0.2687542480913283"
      ]
     },
     "execution_count": 7,
     "metadata": {},
     "output_type": "execute_result"
    }
   ],
   "source": [
    "np.sum(matrix_empirical-matrix)"
   ]
  },
  {
   "cell_type": "markdown",
   "id": "9f38bee5",
   "metadata": {},
   "source": [
    "# Forward model"
   ]
  },
  {
   "cell_type": "code",
   "execution_count": 8,
   "id": "111a531c",
   "metadata": {},
   "outputs": [],
   "source": [
    "J = 10 #number of patients\n",
    "N = 30 #dimensions of clinical data\n",
    "C = 3 #number of cell types\n",
    "G = 100 #genes number\n",
    "sc_samples=1000 #samples to create signature matrix"
   ]
  },
  {
   "cell_type": "code",
   "execution_count": 9,
   "id": "07059809",
   "metadata": {},
   "outputs": [],
   "source": [
    "features=np.random.normal(scale=1/np.sqrt(N),size=[J,N])\n",
    "weights=np.random.normal(scale=1/np.sqrt(N),size=[N,G])"
   ]
  },
  {
   "cell_type": "code",
   "execution_count": 10,
   "id": "44049bc7",
   "metadata": {},
   "outputs": [],
   "source": [
    "patient_correction=np.exp(np.matmul(features,weights))\n",
    "#get a genexpatient\n",
    "patient_correction = patient_correction.T\n",
    "cell_type_correction=np.exp(np.random.normal(scale=0.5,size=[G,C]))"
   ]
  },
  {
   "cell_type": "code",
   "execution_count": 11,
   "id": "813b8b06",
   "metadata": {},
   "outputs": [
    {
     "name": "stdout",
     "output_type": "stream",
     "text": [
      "(100, 10)\n"
     ]
    }
   ],
   "source": [
    "print(patient_correction.shape)"
   ]
  },
  {
   "cell_type": "code",
   "execution_count": 12,
   "id": "71baf6ea",
   "metadata": {},
   "outputs": [
    {
     "name": "stdout",
     "output_type": "stream",
     "text": [
      "(100, 3, 10)\n"
     ]
    }
   ],
   "source": [
    "shape=10\n",
    "scale=1\n",
    "average_mu=np.random.gamma(shape,scale,size=[G])\n",
    "# Multiply M and V, broadcasting happens automatically\n",
    "average_mu = average_mu[:, np.newaxis]\n",
    "\n",
    "# Broadcast multiplication\n",
    "mu_cell_type = average_mu * cell_type_correction\n",
    "mu = mu_cell_type[:, :, np.newaxis] * patient_correction[:, np.newaxis, :]\n",
    "print(mu.shape)"
   ]
  },
  {
   "cell_type": "code",
   "execution_count": 13,
   "id": "beda585d",
   "metadata": {},
   "outputs": [],
   "source": [
    "T_torch = torch.from_numpy(mu)\n",
    "\n",
    "# Use the Poisson function to generate samples\n",
    "sc_counts= torch.poisson(T_torch.unsqueeze(-1).expand(*T_torch.shape, sc_samples))\n",
    "\n",
    "# Now I have to create the mixtures\n",
    "# permute the dimensions to have patients- cell types-samples-genes\n",
    "sc_counts = sc_counts.permute(2, 1, 3, 0)\n"
   ]
  },
  {
   "cell_type": "code",
   "execution_count": 14,
   "id": "629f25d2",
   "metadata": {},
   "outputs": [],
   "source": [
    "cell_type_profiles = torch.mean(sc_counts, dim=(0,2))\n",
    "cell_type_profiles_per_patient=torch.mean(sc_counts,dim=2)\n",
    "bulk_counts_per_patient=torch.sum(sc_counts, dim=(1,2))"
   ]
  },
  {
   "cell_type": "code",
   "execution_count": 15,
   "id": "27fdfe19",
   "metadata": {},
   "outputs": [],
   "source": [
    "#tumordecon requires to use some real genes names\n",
    "# Load the data\n",
    "df = pd.read_csv('genes_list.txt', sep='\\t')\n",
    "\n",
    "# Extract the 'symbol' column, which contains the gene names\n",
    "gene_names = df['Approved symbol'].tolist()\n",
    "\n",
    "# Choose 5 random gene names\n",
    "random_gene_names = random.sample(gene_names, 100)\n",
    "genes=random_gene_names\n",
    "genes_entrez=[\"gene \" + str(i) for i in range(1, 101)]\n",
    "patients = [\"patient \" + str(i) for i in range(1, 11)]"
   ]
  },
  {
   "cell_type": "code",
   "execution_count": 16,
   "id": "63b21e37",
   "metadata": {},
   "outputs": [],
   "source": [
    "# Create a DataFrame\n",
    "df = pd.DataFrame(cell_type_profiles.T, index=genes, columns=[\"cell type 1\", \"cell type 2\" , \"cell type 3\"])\n",
    "df.index.name=\"Gene_Symbol\"\n",
    "df=df.reset_index()\n",
    "#df['Entrez_Gene_Id']=genes_entrez\n",
    "# Save the DataFrame to a CSV file\n",
    "#df.to_csv(\"signature_matrix.csv\")\n",
    "df.to_csv('data/signature_matrix.tsv', sep='\\t',index=False)"
   ]
  },
  {
   "cell_type": "code",
   "execution_count": 17,
   "id": "178d307a",
   "metadata": {},
   "outputs": [
    {
     "data": {
      "text/html": [
       "<div>\n",
       "<style scoped>\n",
       "    .dataframe tbody tr th:only-of-type {\n",
       "        vertical-align: middle;\n",
       "    }\n",
       "\n",
       "    .dataframe tbody tr th {\n",
       "        vertical-align: top;\n",
       "    }\n",
       "\n",
       "    .dataframe thead th {\n",
       "        text-align: right;\n",
       "    }\n",
       "</style>\n",
       "<table border=\"1\" class=\"dataframe\">\n",
       "  <thead>\n",
       "    <tr style=\"text-align: right;\">\n",
       "      <th></th>\n",
       "      <th>Gene_Symbol</th>\n",
       "      <th>cell type 1</th>\n",
       "      <th>cell type 2</th>\n",
       "      <th>cell type 3</th>\n",
       "    </tr>\n",
       "  </thead>\n",
       "  <tbody>\n",
       "    <tr>\n",
       "      <th>0</th>\n",
       "      <td>UNC93A</td>\n",
       "      <td>19.6975</td>\n",
       "      <td>9.8995</td>\n",
       "      <td>9.7818</td>\n",
       "    </tr>\n",
       "    <tr>\n",
       "      <th>1</th>\n",
       "      <td>CARF</td>\n",
       "      <td>17.1865</td>\n",
       "      <td>8.0320</td>\n",
       "      <td>4.8773</td>\n",
       "    </tr>\n",
       "    <tr>\n",
       "      <th>2</th>\n",
       "      <td>TMEM51</td>\n",
       "      <td>12.6813</td>\n",
       "      <td>10.4007</td>\n",
       "      <td>8.1513</td>\n",
       "    </tr>\n",
       "    <tr>\n",
       "      <th>3</th>\n",
       "      <td>CHD3</td>\n",
       "      <td>6.7244</td>\n",
       "      <td>23.6381</td>\n",
       "      <td>15.4479</td>\n",
       "    </tr>\n",
       "    <tr>\n",
       "      <th>4</th>\n",
       "      <td>TMPRSS15</td>\n",
       "      <td>16.6235</td>\n",
       "      <td>7.1544</td>\n",
       "      <td>11.6604</td>\n",
       "    </tr>\n",
       "    <tr>\n",
       "      <th>...</th>\n",
       "      <td>...</td>\n",
       "      <td>...</td>\n",
       "      <td>...</td>\n",
       "      <td>...</td>\n",
       "    </tr>\n",
       "    <tr>\n",
       "      <th>95</th>\n",
       "      <td>BMAL2</td>\n",
       "      <td>11.4714</td>\n",
       "      <td>10.2990</td>\n",
       "      <td>6.3702</td>\n",
       "    </tr>\n",
       "    <tr>\n",
       "      <th>96</th>\n",
       "      <td>ICOS</td>\n",
       "      <td>14.0140</td>\n",
       "      <td>7.9541</td>\n",
       "      <td>5.9810</td>\n",
       "    </tr>\n",
       "    <tr>\n",
       "      <th>97</th>\n",
       "      <td>CYP26C1</td>\n",
       "      <td>8.9449</td>\n",
       "      <td>6.4547</td>\n",
       "      <td>10.9240</td>\n",
       "    </tr>\n",
       "    <tr>\n",
       "      <th>98</th>\n",
       "      <td>ANKUB1</td>\n",
       "      <td>16.5187</td>\n",
       "      <td>6.9436</td>\n",
       "      <td>17.9952</td>\n",
       "    </tr>\n",
       "    <tr>\n",
       "      <th>99</th>\n",
       "      <td>NT5M</td>\n",
       "      <td>5.6514</td>\n",
       "      <td>5.8274</td>\n",
       "      <td>11.0759</td>\n",
       "    </tr>\n",
       "  </tbody>\n",
       "</table>\n",
       "<p>100 rows × 4 columns</p>\n",
       "</div>"
      ],
      "text/plain": [
       "   Gene_Symbol  cell type 1  cell type 2  cell type 3\n",
       "0       UNC93A      19.6975       9.8995       9.7818\n",
       "1         CARF      17.1865       8.0320       4.8773\n",
       "2       TMEM51      12.6813      10.4007       8.1513\n",
       "3         CHD3       6.7244      23.6381      15.4479\n",
       "4     TMPRSS15      16.6235       7.1544      11.6604\n",
       "..         ...          ...          ...          ...\n",
       "95       BMAL2      11.4714      10.2990       6.3702\n",
       "96        ICOS      14.0140       7.9541       5.9810\n",
       "97     CYP26C1       8.9449       6.4547      10.9240\n",
       "98      ANKUB1      16.5187       6.9436      17.9952\n",
       "99        NT5M       5.6514       5.8274      11.0759\n",
       "\n",
       "[100 rows x 4 columns]"
      ]
     },
     "execution_count": 17,
     "metadata": {},
     "output_type": "execute_result"
    }
   ],
   "source": [
    "df"
   ]
  },
  {
   "cell_type": "code",
   "execution_count": 18,
   "id": "9bea2ae1",
   "metadata": {},
   "outputs": [],
   "source": [
    "# Create a DataFrame\n",
    "df = pd.DataFrame(cell_type_profiles_per_patient[0].T, index=genes, columns=[\"cell type 1\", \"cell type 2\" , \"cell type 3\"])\n",
    "\n",
    "# Save the DataFrame to a CSV file\n",
    "df.to_csv(\"signature_matrix_one_patient.csv\")"
   ]
  },
  {
   "cell_type": "code",
   "execution_count": 19,
   "id": "04cc6e97",
   "metadata": {},
   "outputs": [
    {
     "data": {
      "text/html": [
       "<div>\n",
       "<style scoped>\n",
       "    .dataframe tbody tr th:only-of-type {\n",
       "        vertical-align: middle;\n",
       "    }\n",
       "\n",
       "    .dataframe tbody tr th {\n",
       "        vertical-align: top;\n",
       "    }\n",
       "\n",
       "    .dataframe thead th {\n",
       "        text-align: right;\n",
       "    }\n",
       "</style>\n",
       "<table border=\"1\" class=\"dataframe\">\n",
       "  <thead>\n",
       "    <tr style=\"text-align: right;\">\n",
       "      <th></th>\n",
       "      <th>cell type 1</th>\n",
       "      <th>cell type 2</th>\n",
       "      <th>cell type 3</th>\n",
       "    </tr>\n",
       "  </thead>\n",
       "  <tbody>\n",
       "    <tr>\n",
       "      <th>UNC93A</th>\n",
       "      <td>18.388</td>\n",
       "      <td>9.357</td>\n",
       "      <td>9.145</td>\n",
       "    </tr>\n",
       "    <tr>\n",
       "      <th>CARF</th>\n",
       "      <td>19.139</td>\n",
       "      <td>9.020</td>\n",
       "      <td>5.276</td>\n",
       "    </tr>\n",
       "    <tr>\n",
       "      <th>TMEM51</th>\n",
       "      <td>10.188</td>\n",
       "      <td>8.642</td>\n",
       "      <td>6.529</td>\n",
       "    </tr>\n",
       "    <tr>\n",
       "      <th>CHD3</th>\n",
       "      <td>5.312</td>\n",
       "      <td>19.138</td>\n",
       "      <td>12.157</td>\n",
       "    </tr>\n",
       "    <tr>\n",
       "      <th>TMPRSS15</th>\n",
       "      <td>12.525</td>\n",
       "      <td>5.326</td>\n",
       "      <td>8.746</td>\n",
       "    </tr>\n",
       "    <tr>\n",
       "      <th>...</th>\n",
       "      <td>...</td>\n",
       "      <td>...</td>\n",
       "      <td>...</td>\n",
       "    </tr>\n",
       "    <tr>\n",
       "      <th>BMAL2</th>\n",
       "      <td>9.304</td>\n",
       "      <td>8.145</td>\n",
       "      <td>5.066</td>\n",
       "    </tr>\n",
       "    <tr>\n",
       "      <th>ICOS</th>\n",
       "      <td>11.820</td>\n",
       "      <td>6.777</td>\n",
       "      <td>5.008</td>\n",
       "    </tr>\n",
       "    <tr>\n",
       "      <th>CYP26C1</th>\n",
       "      <td>9.372</td>\n",
       "      <td>6.663</td>\n",
       "      <td>11.507</td>\n",
       "    </tr>\n",
       "    <tr>\n",
       "      <th>ANKUB1</th>\n",
       "      <td>14.264</td>\n",
       "      <td>6.066</td>\n",
       "      <td>15.705</td>\n",
       "    </tr>\n",
       "    <tr>\n",
       "      <th>NT5M</th>\n",
       "      <td>4.146</td>\n",
       "      <td>4.246</td>\n",
       "      <td>8.289</td>\n",
       "    </tr>\n",
       "  </tbody>\n",
       "</table>\n",
       "<p>100 rows × 3 columns</p>\n",
       "</div>"
      ],
      "text/plain": [
       "          cell type 1  cell type 2  cell type 3\n",
       "UNC93A         18.388        9.357        9.145\n",
       "CARF           19.139        9.020        5.276\n",
       "TMEM51         10.188        8.642        6.529\n",
       "CHD3            5.312       19.138       12.157\n",
       "TMPRSS15       12.525        5.326        8.746\n",
       "...               ...          ...          ...\n",
       "BMAL2           9.304        8.145        5.066\n",
       "ICOS           11.820        6.777        5.008\n",
       "CYP26C1         9.372        6.663       11.507\n",
       "ANKUB1         14.264        6.066       15.705\n",
       "NT5M            4.146        4.246        8.289\n",
       "\n",
       "[100 rows x 3 columns]"
      ]
     },
     "execution_count": 19,
     "metadata": {},
     "output_type": "execute_result"
    }
   ],
   "source": [
    "df"
   ]
  },
  {
   "cell_type": "code",
   "execution_count": 20,
   "id": "723dd2b2",
   "metadata": {},
   "outputs": [],
   "source": [
    "# Create a DataFrame\n",
    "df = pd.DataFrame(bulk_counts_per_patient.T, index=genes, columns=patients)\n",
    "df.index.name=\"Hugo_Symbol\"\n",
    "df=df.reset_index()\n",
    "df['Entrez_Gene_Id']=genes_entrez\n",
    "#df.set_index('Entrez_Gene_Id', inplace=True)\n",
    "# Save the DataFrame to a CSV file\n",
    "#df.to_csv(\"data/bulk_counts.csv\")\n",
    "df.to_csv('data/bulk_counts.tsv', sep='\\t',index=False)"
   ]
  },
  {
   "cell_type": "markdown",
   "id": "2a0bd266",
   "metadata": {},
   "source": [
    "# Try TumorDecon"
   ]
  },
  {
   "cell_type": "markdown",
   "id": "ede6871d",
   "metadata": {},
   "source": [
    "### As in the tutorial in https://people.math.umass.edu/~aronow/TumorDecon/quickstart.html#tutorial"
   ]
  },
  {
   "cell_type": "code",
   "execution_count": 21,
   "id": "71e04da7",
   "metadata": {},
   "outputs": [],
   "source": [
    "# Location of sample data (included with the TumorDecon package):\n",
    "data_loc = \"./data/\"\n",
    "# Read in sample data (original source - Colorectal Adenocarcinoma RNA Seq v2 from cBioPortal.org):\n",
    "rna = td.read_rna_file(data_loc+'bulk_counts.tsv',identifier='hugo',fetch_missing_hugo=False)\n"
   ]
  },
  {
   "cell_type": "code",
   "execution_count": 22,
   "id": "0f593d88",
   "metadata": {},
   "outputs": [],
   "source": [
    "signature=td.read_sig_file(data_loc+\"signature_matrix.tsv\")"
   ]
  },
  {
   "cell_type": "code",
   "execution_count": 23,
   "id": "88ace6b6",
   "metadata": {},
   "outputs": [
    {
     "name": "stdout",
     "output_type": "stream",
     "text": [
      "Running CiberSort...\n",
      "CiberSort has completed!\n"
     ]
    }
   ],
   "source": [
    "ciber_freqs = td.tumor_deconvolve(rna, 'cibersort',  patient_IDs='ALL', sig_matrix=signature, args={'nu':'best', 'scaling':'minmax'})\n"
   ]
  },
  {
   "cell_type": "code",
   "execution_count": 24,
   "id": "36f29ae7",
   "metadata": {},
   "outputs": [
    {
     "data": {
      "text/html": [
       "<div>\n",
       "<style scoped>\n",
       "    .dataframe tbody tr th:only-of-type {\n",
       "        vertical-align: middle;\n",
       "    }\n",
       "\n",
       "    .dataframe tbody tr th {\n",
       "        vertical-align: top;\n",
       "    }\n",
       "\n",
       "    .dataframe thead th {\n",
       "        text-align: right;\n",
       "    }\n",
       "</style>\n",
       "<table border=\"1\" class=\"dataframe\">\n",
       "  <thead>\n",
       "    <tr style=\"text-align: right;\">\n",
       "      <th>Patient_ID</th>\n",
       "      <th>cell type 1</th>\n",
       "      <th>cell type 2</th>\n",
       "      <th>cell type 3</th>\n",
       "    </tr>\n",
       "  </thead>\n",
       "  <tbody>\n",
       "    <tr>\n",
       "      <th>patient 1</th>\n",
       "      <td>0.571606</td>\n",
       "      <td>0.209404</td>\n",
       "      <td>0.218990</td>\n",
       "    </tr>\n",
       "    <tr>\n",
       "      <th>patient 2</th>\n",
       "      <td>0.441771</td>\n",
       "      <td>0.232256</td>\n",
       "      <td>0.325973</td>\n",
       "    </tr>\n",
       "    <tr>\n",
       "      <th>patient 3</th>\n",
       "      <td>0.546242</td>\n",
       "      <td>0.209249</td>\n",
       "      <td>0.244509</td>\n",
       "    </tr>\n",
       "    <tr>\n",
       "      <th>patient 4</th>\n",
       "      <td>0.451778</td>\n",
       "      <td>0.255085</td>\n",
       "      <td>0.293137</td>\n",
       "    </tr>\n",
       "    <tr>\n",
       "      <th>patient 5</th>\n",
       "      <td>0.484127</td>\n",
       "      <td>0.210884</td>\n",
       "      <td>0.304989</td>\n",
       "    </tr>\n",
       "    <tr>\n",
       "      <th>patient 6</th>\n",
       "      <td>0.395172</td>\n",
       "      <td>0.256195</td>\n",
       "      <td>0.348634</td>\n",
       "    </tr>\n",
       "    <tr>\n",
       "      <th>patient 7</th>\n",
       "      <td>0.442825</td>\n",
       "      <td>0.237669</td>\n",
       "      <td>0.319506</td>\n",
       "    </tr>\n",
       "    <tr>\n",
       "      <th>patient 8</th>\n",
       "      <td>0.560836</td>\n",
       "      <td>0.212379</td>\n",
       "      <td>0.226785</td>\n",
       "    </tr>\n",
       "    <tr>\n",
       "      <th>patient 9</th>\n",
       "      <td>0.460823</td>\n",
       "      <td>0.270636</td>\n",
       "      <td>0.268541</td>\n",
       "    </tr>\n",
       "    <tr>\n",
       "      <th>patient 10</th>\n",
       "      <td>0.426937</td>\n",
       "      <td>0.229529</td>\n",
       "      <td>0.343534</td>\n",
       "    </tr>\n",
       "  </tbody>\n",
       "</table>\n",
       "</div>"
      ],
      "text/plain": [
       "Patient_ID  cell type 1  cell type 2  cell type 3\n",
       "patient 1      0.571606     0.209404     0.218990\n",
       "patient 2      0.441771     0.232256     0.325973\n",
       "patient 3      0.546242     0.209249     0.244509\n",
       "patient 4      0.451778     0.255085     0.293137\n",
       "patient 5      0.484127     0.210884     0.304989\n",
       "patient 6      0.395172     0.256195     0.348634\n",
       "patient 7      0.442825     0.237669     0.319506\n",
       "patient 8      0.560836     0.212379     0.226785\n",
       "patient 9      0.460823     0.270636     0.268541\n",
       "patient 10     0.426937     0.229529     0.343534"
      ]
     },
     "execution_count": 24,
     "metadata": {},
     "output_type": "execute_result"
    }
   ],
   "source": [
    "ciber_freqs"
   ]
  },
  {
   "cell_type": "markdown",
   "id": "af88dd17",
   "metadata": {},
   "source": [
    "# Mix them together -> Try to fake a pipeline "
   ]
  },
  {
   "cell_type": "code",
   "execution_count": 104,
   "id": "c6f0eb28",
   "metadata": {},
   "outputs": [],
   "source": [
    "#generate a fake distance matrix\n",
    "J = 10 #number of patients\n",
    "N = 100 #dimensions of clinical data\n",
    "b = np.random.random_sample(size=(J,J))\n",
    "S= (b + b.T)/2\n",
    "np.fill_diagonal(S, 0)"
   ]
  },
  {
   "cell_type": "code",
   "execution_count": 128,
   "id": "4940bde9",
   "metadata": {},
   "outputs": [],
   "source": [
    "patient0=np.random.normal(scale=1/np.sqrt(N),size=N)\n",
    "patients=[]\n",
    "patients.append(patient0)\n",
    "for i in range(1,J):\n",
    "    patient=np.random.normal(scale=1/np.sqrt(N),size=N)+patients[-1]\n",
    "    patients.append(patient)\n",
    "patients=np.array(patients)"
   ]
  },
  {
   "cell_type": "code",
   "execution_count": 107,
   "id": "83a63b38",
   "metadata": {},
   "outputs": [
    {
     "name": "stdout",
     "output_type": "stream",
     "text": [
      "(100, 10)\n"
     ]
    }
   ],
   "source": [
    "weights=np.random.normal(scale=1/np.sqrt(N),size=[N,G])\n",
    "patient_correction=np.exp(np.matmul(patients,weights))\n",
    "#get a genexpatient\n",
    "patient_correction = patient_correction.T\n",
    "print(patient_correction.shape)\n",
    "cell_type_correction=np.exp(np.random.normal(scale=1,size=[G,C]))"
   ]
  },
  {
   "cell_type": "code",
   "execution_count": 108,
   "id": "fa07d05a",
   "metadata": {},
   "outputs": [
    {
     "name": "stdout",
     "output_type": "stream",
     "text": [
      "(100, 3)\n",
      "(100, 3, 10)\n"
     ]
    }
   ],
   "source": [
    "shape=10\n",
    "scale=1\n",
    "average_mu=np.random.gamma(shape,scale,size=[G])\n",
    "# Multiply M and V, broadcasting happens automatically\n",
    "average_mu = average_mu[:, np.newaxis]\n",
    "\n",
    "# Broadcast multiplication\n",
    "mu_cell_type = average_mu * cell_type_correction\n",
    "#Alternative:\n",
    "mu_cell_type=np.random.gamma(shape,scale,size=[G,C])\n",
    "print(mu_cell_type.shape)\n",
    "mu = mu_cell_type[:, :, np.newaxis] * patient_correction[:, np.newaxis, :]\n",
    "print(mu.shape)"
   ]
  },
  {
   "cell_type": "code",
   "execution_count": 109,
   "id": "70cef813",
   "metadata": {},
   "outputs": [],
   "source": [
    "T_torch = torch.from_numpy(mu)\n",
    "\n",
    "# Use the Poisson function to generate samples\n",
    "sc_counts= torch.poisson(T_torch.unsqueeze(-1).expand(*T_torch.shape, sc_samples))\n",
    "\n",
    "# Now I have to create the mixtures\n",
    "# permute the dimensions to have patients- cell types-samples-genes\n",
    "sc_counts = sc_counts.permute(2, 1, 3, 0)\n"
   ]
  },
  {
   "cell_type": "code",
   "execution_count": 110,
   "id": "f2148aa7",
   "metadata": {},
   "outputs": [],
   "source": [
    "cell_type_profiles = torch.mean(sc_counts, dim=(0,2))\n",
    "cell_type_profiles_per_patient=torch.mean(sc_counts,dim=2)\n",
    "bulk_counts_per_patient=torch.sum(sc_counts, dim=(1,2))"
   ]
  },
  {
   "cell_type": "code",
   "execution_count": 111,
   "id": "47318628",
   "metadata": {},
   "outputs": [],
   "source": [
    "#tumordecon requires to use some real genes names\n",
    "# Load the data\n",
    "df = pd.read_csv('genes_list.txt', sep='\\t')\n",
    "\n",
    "# Extract the 'symbol' column, which contains the gene names\n",
    "gene_names = df['Approved symbol'].tolist()\n",
    "\n",
    "# Choose 5 random gene names\n",
    "random_gene_names = random.sample(gene_names, 100)\n",
    "genes=random_gene_names\n",
    "genes_entrez=[\"gene \" + str(i) for i in range(1, 101)]\n",
    "patients = [\"patient \" + str(i) for i in range(1, 11)]"
   ]
  },
  {
   "cell_type": "code",
   "execution_count": 112,
   "id": "9b67d607",
   "metadata": {},
   "outputs": [],
   "source": [
    "# Create a DataFrame\n",
    "df = pd.DataFrame(cell_type_profiles.T, index=genes, columns=[\"cell type 1\", \"cell type 2\" , \"cell type 3\"])\n",
    "df.index.name=\"Gene_Symbol\"\n",
    "df=df.reset_index()\n",
    "#df['Entrez_Gene_Id']=genes_entrez\n",
    "# Save the DataFrame to a CSV file\n",
    "#df.to_csv(\"signature_matrix.csv\")\n",
    "df.to_csv('data/signature_matrix.tsv', sep='\\t',index=False)"
   ]
  },
  {
   "cell_type": "code",
   "execution_count": 113,
   "id": "1946bf65",
   "metadata": {},
   "outputs": [],
   "source": [
    "for i in range(len(cell_type_profiles_per_patient)):\n",
    "    df = pd.DataFrame(cell_type_profiles_per_patient[i].T, index=genes, columns=[\"cell type 1\", \"cell type 2\" , \"cell type 3\"])\n",
    "    df.index.name=\"Gene_Symbol\"\n",
    "    df=df.reset_index()\n",
    "    #df['Entrez_Gene_Id']=genes_entrez\n",
    "    # Save the DataFrame to a CSV file\n",
    "    #df.to_csv(\"signature_matrix.csv\")\n",
    "    df.to_csv(f'data/signature_matrix_{i}.tsv', sep='\\t',index=False)"
   ]
  },
  {
   "cell_type": "code",
   "execution_count": 114,
   "id": "7116de9e",
   "metadata": {},
   "outputs": [],
   "source": [
    "# Create a DataFrame\n",
    "df = pd.DataFrame(bulk_counts_per_patient.T, index=genes, columns=patients)\n",
    "df.index.name=\"Hugo_Symbol\"\n",
    "df=df.reset_index()\n",
    "df['Entrez_Gene_Id']=genes_entrez\n",
    "#df.set_index('Entrez_Gene_Id', inplace=True)\n",
    "# Save the DataFrame to a CSV file\n",
    "#df.to_csv(\"data/bulk_counts.csv\")\n",
    "df.to_csv('data/bulk_counts.tsv', sep='\\t',index=False)"
   ]
  },
  {
   "cell_type": "markdown",
   "id": "971de040",
   "metadata": {},
   "source": [
    "## Average signature matrix, as before"
   ]
  },
  {
   "cell_type": "code",
   "execution_count": 115,
   "id": "d4edb2f8",
   "metadata": {},
   "outputs": [],
   "source": [
    "# Location of sample data (included with the TumorDecon package):\n",
    "data_loc = \"./data/\"\n",
    "# Read in sample data (original source - Colorectal Adenocarcinoma RNA Seq v2 from cBioPortal.org):\n",
    "rna = td.read_rna_file(data_loc+'bulk_counts.tsv',identifier='hugo',fetch_missing_hugo=False)\n",
    "signature=td.read_sig_file(data_loc+\"signature_matrix.tsv\")"
   ]
  },
  {
   "cell_type": "code",
   "execution_count": 116,
   "id": "3f56a354",
   "metadata": {},
   "outputs": [
    {
     "name": "stdout",
     "output_type": "stream",
     "text": [
      "Running CiberSort...\n",
      "CiberSort has completed!\n"
     ]
    }
   ],
   "source": [
    "ciber_freqs = td.tumor_deconvolve(rna, 'cibersort',  patient_IDs='ALL', sig_matrix=signature, args={'nu':'best', 'scaling':'minmax'})"
   ]
  },
  {
   "cell_type": "code",
   "execution_count": 117,
   "id": "2692c5f3",
   "metadata": {},
   "outputs": [],
   "source": [
    "true_freqs=np.array([1/3,1/3,1/3])"
   ]
  },
  {
   "cell_type": "code",
   "execution_count": 118,
   "id": "f0289f51",
   "metadata": {},
   "outputs": [
    {
     "data": {
      "text/plain": [
       "array([[0.43524018],\n",
       "       [0.32816018],\n",
       "       [0.12247741],\n",
       "       [0.1575312 ],\n",
       "       [0.13341881],\n",
       "       [0.08876931],\n",
       "       [0.1398508 ],\n",
       "       [0.18278871],\n",
       "       [0.12820191],\n",
       "       [0.0916212 ]])"
      ]
     },
     "execution_count": 118,
     "metadata": {},
     "output_type": "execute_result"
    }
   ],
   "source": [
    "euclidean_distances(ciber_freqs.to_numpy(),true_freqs.reshape(1, -1))"
   ]
  },
  {
   "cell_type": "markdown",
   "id": "16255ee9",
   "metadata": {},
   "source": [
    "## Different signature matrices"
   ]
  },
  {
   "cell_type": "code",
   "execution_count": 119,
   "id": "ba58a50e",
   "metadata": {},
   "outputs": [],
   "source": [
    "signatures=[]\n",
    "for i in range(J):\n",
    "    signature=td.read_sig_file(data_loc+f\"signature_matrix_{i}.tsv\")\n",
    "    signatures.append(signature)"
   ]
  },
  {
   "cell_type": "code",
   "execution_count": 126,
   "id": "56bbb3b5",
   "metadata": {},
   "outputs": [
    {
     "name": "stdout",
     "output_type": "stream",
     "text": [
      "Running CiberSort...\n",
      "CiberSort has completed!\n",
      "Running CiberSort...\n",
      "CiberSort has completed!\n",
      "Running CiberSort...\n",
      "CiberSort has completed!\n",
      "Running CiberSort...\n",
      "CiberSort has completed!\n",
      "Running CiberSort...\n",
      "CiberSort has completed!\n",
      "Running CiberSort...\n",
      "CiberSort has completed!\n",
      "Running CiberSort...\n",
      "CiberSort has completed!\n",
      "Running CiberSort...\n",
      "CiberSort has completed!\n",
      "Running CiberSort...\n",
      "CiberSort has completed!\n",
      "Running CiberSort...\n",
      "CiberSort has completed!\n"
     ]
    }
   ],
   "source": [
    "distances=np.empty((J, J))\n",
    "for i in range(J):\n",
    "    ciber_freqs = td.tumor_deconvolve(rna, 'cibersort',  patient_IDs='ALL', sig_matrix=signatures[i], args={'nu':'best', 'scaling':'minmax'})\n",
    "    dist=euclidean_distances(ciber_freqs.to_numpy(),true_freqs.reshape(1, -1))\n",
    "    distances[i]=dist.flatten()"
   ]
  },
  {
   "cell_type": "code",
   "execution_count": 127,
   "id": "6c191a25",
   "metadata": {},
   "outputs": [
    {
     "data": {
      "text/plain": [
       "array([[0.05246967, 0.09240446, 0.03785011, 0.18892898, 0.03302898,\n",
       "        0.07371174, 0.01322836, 0.17391841, 0.2084416 , 0.31452743],\n",
       "       [0.11718825, 0.0263978 , 0.0437265 , 0.06840246, 0.13516875,\n",
       "        0.0724545 , 0.13159936, 0.2724517 , 0.18732914, 0.28950964],\n",
       "       [0.30868809, 0.12094095, 0.04716803, 0.02424421, 0.09416662,\n",
       "        0.05384289, 0.0413261 , 0.17910279, 0.4088257 , 0.4138501 ],\n",
       "       [0.3221176 , 0.23994356, 0.14159559, 0.15186714, 0.1874639 ,\n",
       "        0.1219679 , 0.24137018, 0.24059675, 0.22943108, 0.17015387],\n",
       "       [0.41133541, 0.35136472, 0.05623356, 0.08303235, 0.10237038,\n",
       "        0.07764113, 0.28376307, 0.26316282, 0.28932854, 0.35757278],\n",
       "       [0.41858842, 0.39495325, 0.20280985, 0.18587646, 0.1847737 ,\n",
       "        0.10125668, 0.17453684, 0.16924481, 0.22234382, 0.12954549],\n",
       "       [0.4254591 , 0.4785428 , 0.45227857, 0.3474785 , 0.24352985,\n",
       "        0.07173481, 0.1328618 , 0.14444137, 0.13127176, 0.14011246],\n",
       "       [0.51153585, 0.45722223, 0.41574799, 0.30999463, 0.17954271,\n",
       "        0.01038966, 0.02125493, 0.13987506, 0.14838132, 0.07666232],\n",
       "       [0.49962773, 0.41928067, 0.21231052, 0.25873127, 0.1275298 ,\n",
       "        0.1108222 , 0.07807988, 0.13337827, 0.13606588, 0.11241577],\n",
       "       [0.41328605, 0.41547683, 0.06791037, 0.36467669, 0.11092335,\n",
       "        0.0716232 , 0.01590301, 0.18977591, 0.16120441, 0.1454736 ]])"
      ]
     },
     "execution_count": 127,
     "metadata": {},
     "output_type": "execute_result"
    }
   ],
   "source": [
    "np.array(distances)"
   ]
  },
  {
   "cell_type": "code",
   "execution_count": 122,
   "id": "22c8b999",
   "metadata": {},
   "outputs": [
    {
     "name": "stdout",
     "output_type": "stream",
     "text": [
      "Running CiberSort...\n",
      "CiberSort has completed!\n"
     ]
    }
   ],
   "source": [
    "ciber_freqs = td.tumor_deconvolve(rna, 'cibersort',  patient_IDs='ALL', sig_matrix=signatures[0], args={'nu':'best', 'scaling':'minmax'})"
   ]
  },
  {
   "cell_type": "code",
   "execution_count": 123,
   "id": "6c3e6736",
   "metadata": {},
   "outputs": [
    {
     "data": {
      "text/html": [
       "<div>\n",
       "<style scoped>\n",
       "    .dataframe tbody tr th:only-of-type {\n",
       "        vertical-align: middle;\n",
       "    }\n",
       "\n",
       "    .dataframe tbody tr th {\n",
       "        vertical-align: top;\n",
       "    }\n",
       "\n",
       "    .dataframe thead th {\n",
       "        text-align: right;\n",
       "    }\n",
       "</style>\n",
       "<table border=\"1\" class=\"dataframe\">\n",
       "  <thead>\n",
       "    <tr style=\"text-align: right;\">\n",
       "      <th>Patient_ID</th>\n",
       "      <th>cell type 1</th>\n",
       "      <th>cell type 2</th>\n",
       "      <th>cell type 3</th>\n",
       "    </tr>\n",
       "  </thead>\n",
       "  <tbody>\n",
       "    <tr>\n",
       "      <th>patient 1</th>\n",
       "      <td>0.294011</td>\n",
       "      <td>0.338269</td>\n",
       "      <td>0.367720</td>\n",
       "    </tr>\n",
       "    <tr>\n",
       "      <th>patient 2</th>\n",
       "      <td>0.407126</td>\n",
       "      <td>0.310050</td>\n",
       "      <td>0.282824</td>\n",
       "    </tr>\n",
       "    <tr>\n",
       "      <th>patient 3</th>\n",
       "      <td>0.309863</td>\n",
       "      <td>0.327657</td>\n",
       "      <td>0.362480</td>\n",
       "    </tr>\n",
       "    <tr>\n",
       "      <th>patient 4</th>\n",
       "      <td>0.353449</td>\n",
       "      <td>0.455728</td>\n",
       "      <td>0.190823</td>\n",
       "    </tr>\n",
       "    <tr>\n",
       "      <th>patient 5</th>\n",
       "      <td>0.345234</td>\n",
       "      <td>0.348341</td>\n",
       "      <td>0.306425</td>\n",
       "    </tr>\n",
       "    <tr>\n",
       "      <th>patient 6</th>\n",
       "      <td>0.288625</td>\n",
       "      <td>0.390581</td>\n",
       "      <td>0.320794</td>\n",
       "    </tr>\n",
       "    <tr>\n",
       "      <th>patient 7</th>\n",
       "      <td>0.322752</td>\n",
       "      <td>0.336749</td>\n",
       "      <td>0.340499</td>\n",
       "    </tr>\n",
       "    <tr>\n",
       "      <th>patient 8</th>\n",
       "      <td>0.235720</td>\n",
       "      <td>0.292823</td>\n",
       "      <td>0.471457</td>\n",
       "    </tr>\n",
       "    <tr>\n",
       "      <th>patient 9</th>\n",
       "      <td>0.179732</td>\n",
       "      <td>0.473608</td>\n",
       "      <td>0.346659</td>\n",
       "    </tr>\n",
       "    <tr>\n",
       "      <th>patient 10</th>\n",
       "      <td>0.079255</td>\n",
       "      <td>0.492730</td>\n",
       "      <td>0.428015</td>\n",
       "    </tr>\n",
       "  </tbody>\n",
       "</table>\n",
       "</div>"
      ],
      "text/plain": [
       "Patient_ID  cell type 1  cell type 2  cell type 3\n",
       "patient 1      0.294011     0.338269     0.367720\n",
       "patient 2      0.407126     0.310050     0.282824\n",
       "patient 3      0.309863     0.327657     0.362480\n",
       "patient 4      0.353449     0.455728     0.190823\n",
       "patient 5      0.345234     0.348341     0.306425\n",
       "patient 6      0.288625     0.390581     0.320794\n",
       "patient 7      0.322752     0.336749     0.340499\n",
       "patient 8      0.235720     0.292823     0.471457\n",
       "patient 9      0.179732     0.473608     0.346659\n",
       "patient 10     0.079255     0.492730     0.428015"
      ]
     },
     "execution_count": 123,
     "metadata": {},
     "output_type": "execute_result"
    }
   ],
   "source": [
    "ciber_freqs"
   ]
  },
  {
   "cell_type": "code",
   "execution_count": null,
   "id": "47894273",
   "metadata": {},
   "outputs": [],
   "source": []
  }
 ],
 "metadata": {
  "kernelspec": {
   "display_name": "Python 3 (ipykernel)",
   "language": "python",
   "name": "python3"
  },
  "language_info": {
   "codemirror_mode": {
    "name": "ipython",
    "version": 3
   },
   "file_extension": ".py",
   "mimetype": "text/x-python",
   "name": "python",
   "nbconvert_exporter": "python",
   "pygments_lexer": "ipython3",
   "version": "3.9.13"
  }
 },
 "nbformat": 4,
 "nbformat_minor": 5
}
