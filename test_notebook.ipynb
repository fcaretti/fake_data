{
 "cells": [
  {
   "cell_type": "code",
   "execution_count": 1,
   "id": "3d8f5a01",
   "metadata": {},
   "outputs": [],
   "source": [
    "from sklearn.manifold import MDS\n",
    "import numpy as np\n",
    "import torch\n",
    "import pandas as pd\n",
    "import random\n",
    "\n",
    "from sklearn.metrics import euclidean_distances\n",
    "import utils as ut\n",
    "import TumorDecon as td\n"
   ]
  },
  {
   "cell_type": "code",
   "execution_count": 2,
   "id": "fa4baa88",
   "metadata": {},
   "outputs": [],
   "source": [
    "J = 10 #number of patients\n",
    "N = 100 #dimensions of clinical data\n",
    "b = np.random.random_sample(size=(J,J))*2-1\n",
    "S= (b + b.T)/2"
   ]
  },
  {
   "cell_type": "code",
   "execution_count": 3,
   "id": "f4b15cd5",
   "metadata": {},
   "outputs": [],
   "source": [
    "np.fill_diagonal(S, 0)"
   ]
  },
  {
   "cell_type": "markdown",
   "id": "92c08ed9",
   "metadata": {},
   "source": [
    "# Start from the basics\n",
    "### From a similarity matrix get some points with that similarity"
   ]
  },
  {
   "cell_type": "code",
   "execution_count": 4,
   "id": "41c171ee",
   "metadata": {},
   "outputs": [],
   "source": [
    "og_points=np.random.poisson(size=[J,N])\n",
    "matrix=euclidean_distances(og_points,og_points)"
   ]
  },
  {
   "cell_type": "code",
   "execution_count": 5,
   "id": "5271ae9f",
   "metadata": {},
   "outputs": [
    {
     "name": "stderr",
     "output_type": "stream",
     "text": [
      "/home/federico/.local/lib/python3.10/site-packages/sklearn/manifold/_mds.py:298: FutureWarning: The default value of `normalized_stress` will change to `'auto'` in version 1.4. To suppress this warning, manually set the value of `normalized_stress`.\n",
      "  warnings.warn(\n"
     ]
    }
   ],
   "source": [
    "# perform MDS\n",
    "X_mds = ut.fake_points_MDS(matrix,N)\n"
   ]
  },
  {
   "cell_type": "code",
   "execution_count": 6,
   "id": "fa82ebca",
   "metadata": {},
   "outputs": [],
   "source": [
    "matrix_empirical=euclidean_distances(X_mds,X_mds)"
   ]
  },
  {
   "cell_type": "code",
   "execution_count": 7,
   "id": "62ab6a2d",
   "metadata": {},
   "outputs": [
    {
     "data": {
      "text/plain": [
       "0.15911431133138976"
      ]
     },
     "execution_count": 7,
     "metadata": {},
     "output_type": "execute_result"
    }
   ],
   "source": [
    "np.sum(matrix_empirical-matrix)"
   ]
  },
  {
   "cell_type": "markdown",
   "id": "9f38bee5",
   "metadata": {},
   "source": [
    "# Forward model"
   ]
  },
  {
   "cell_type": "code",
   "execution_count": 8,
   "id": "111a531c",
   "metadata": {},
   "outputs": [],
   "source": [
    "J = 10 #number of patients\n",
    "N = 30 #dimensions of clinical data\n",
    "C = 3 #number of cell types\n",
    "G = 100 #genes number\n",
    "sc_samples=1000 #samples to create signature matrix"
   ]
  },
  {
   "cell_type": "code",
   "execution_count": 9,
   "id": "07059809",
   "metadata": {},
   "outputs": [],
   "source": [
    "features=np.random.normal(scale=1/np.sqrt(N),size=[J,N])\n",
    "weights=np.random.normal(scale=1/np.sqrt(N),size=[N,G])"
   ]
  },
  {
   "cell_type": "code",
   "execution_count": 10,
   "id": "44049bc7",
   "metadata": {},
   "outputs": [],
   "source": [
    "patient_correction=np.exp(np.matmul(features,weights))\n",
    "#get a genexpatient\n",
    "patient_correction = patient_correction.T\n",
    "cell_type_correction=np.exp(np.random.normal(scale=0.5,size=[G,C]))"
   ]
  },
  {
   "cell_type": "code",
   "execution_count": 11,
   "id": "813b8b06",
   "metadata": {},
   "outputs": [
    {
     "name": "stdout",
     "output_type": "stream",
     "text": [
      "(100, 10)\n"
     ]
    }
   ],
   "source": [
    "print(patient_correction.shape)"
   ]
  },
  {
   "cell_type": "code",
   "execution_count": 12,
   "id": "71baf6ea",
   "metadata": {},
   "outputs": [
    {
     "name": "stdout",
     "output_type": "stream",
     "text": [
      "(100, 3, 10)\n"
     ]
    }
   ],
   "source": [
    "shape=10\n",
    "scale=1\n",
    "average_mu=np.random.gamma(shape,scale,size=[G])\n",
    "# Multiply M and V, broadcasting happens automatically\n",
    "average_mu = average_mu[:, np.newaxis]\n",
    "\n",
    "# Broadcast multiplication\n",
    "mu_cell_type = average_mu * cell_type_correction\n",
    "\n",
    "mu = mu_cell_type[:, :, np.newaxis] * patient_correction[:, np.newaxis, :]\n",
    "print(mu.shape)"
   ]
  },
  {
   "cell_type": "code",
   "execution_count": 13,
   "id": "beda585d",
   "metadata": {},
   "outputs": [],
   "source": [
    "T_torch = torch.from_numpy(mu)\n",
    "\n",
    "# Use the Poisson function to generate samples\n",
    "sc_counts= torch.poisson(T_torch.unsqueeze(-1).expand(*T_torch.shape, sc_samples))\n",
    "\n",
    "# Now I have to create the mixtures\n",
    "# permute the dimensions to have patients- cell types-samples-genes\n",
    "sc_counts = sc_counts.permute(2, 1, 3, 0)\n"
   ]
  },
  {
   "cell_type": "code",
   "execution_count": 14,
   "id": "629f25d2",
   "metadata": {},
   "outputs": [],
   "source": [
    "cell_type_profiles = torch.mean(sc_counts, dim=(0,2))\n",
    "cell_type_profiles_per_patient=torch.mean(sc_counts,dim=2)\n",
    "bulk_counts_per_patient=torch.sum(sc_counts, dim=(1,2))"
   ]
  },
  {
   "cell_type": "code",
   "execution_count": 15,
   "id": "27fdfe19",
   "metadata": {},
   "outputs": [],
   "source": [
    "#tumordecon requires to use some real genes names\n",
    "# Load the data\n",
    "df = pd.read_csv('genes_list.txt', sep='\\t')\n",
    "\n",
    "# Extract the 'symbol' column, which contains the gene names\n",
    "gene_names = df['Approved symbol'].tolist()\n",
    "\n",
    "# Choose 5 random gene names\n",
    "random_gene_names = random.sample(gene_names, 100)\n",
    "genes=random_gene_names\n",
    "genes_entrez=[\"gene \" + str(i) for i in range(1, 101)]\n",
    "patients = [\"patient \" + str(i) for i in range(1, 11)]"
   ]
  },
  {
   "cell_type": "code",
   "execution_count": 63,
   "id": "63b21e37",
   "metadata": {},
   "outputs": [],
   "source": [
    "# Create a DataFrame\n",
    "df = pd.DataFrame(cell_type_profiles.T, index=genes, columns=[\"cell type 1\", \"cell type 2\" , \"cell type 3\"])\n",
    "df.index.name=\"Gene_Symbol\"\n",
    "df=df.reset_index()\n",
    "#df['Entrez_Gene_Id']=genes_entrez\n",
    "# Save the DataFrame to a CSV file\n",
    "#df.to_csv(\"signature_matrix.csv\")\n",
    "df.to_csv('data/signature_matrix.tsv', sep='\\t',index=False)"
   ]
  },
  {
   "cell_type": "code",
   "execution_count": 47,
   "id": "d6eb45dd",
   "metadata": {},
   "outputs": [
    {
     "data": {
      "text/html": [
       "<div>\n",
       "<style scoped>\n",
       "    .dataframe tbody tr th:only-of-type {\n",
       "        vertical-align: middle;\n",
       "    }\n",
       "\n",
       "    .dataframe tbody tr th {\n",
       "        vertical-align: top;\n",
       "    }\n",
       "\n",
       "    .dataframe thead th {\n",
       "        text-align: right;\n",
       "    }\n",
       "</style>\n",
       "<table border=\"1\" class=\"dataframe\">\n",
       "  <thead>\n",
       "    <tr style=\"text-align: right;\">\n",
       "      <th></th>\n",
       "      <th>Hugo_Symbol</th>\n",
       "      <th>cell type 1</th>\n",
       "      <th>cell type 2</th>\n",
       "      <th>cell type 3</th>\n",
       "      <th>Entrez_Gene_Id</th>\n",
       "    </tr>\n",
       "  </thead>\n",
       "  <tbody>\n",
       "    <tr>\n",
       "      <th>0</th>\n",
       "      <td>ZNRF3</td>\n",
       "      <td>85.1370</td>\n",
       "      <td>13.7235</td>\n",
       "      <td>15.1833</td>\n",
       "      <td>gene 1</td>\n",
       "    </tr>\n",
       "    <tr>\n",
       "      <th>1</th>\n",
       "      <td>TARS3</td>\n",
       "      <td>1.3809</td>\n",
       "      <td>2.6789</td>\n",
       "      <td>4.1686</td>\n",
       "      <td>gene 2</td>\n",
       "    </tr>\n",
       "    <tr>\n",
       "      <th>2</th>\n",
       "      <td>TCIRG1</td>\n",
       "      <td>47.3944</td>\n",
       "      <td>13.9389</td>\n",
       "      <td>17.8215</td>\n",
       "      <td>gene 3</td>\n",
       "    </tr>\n",
       "    <tr>\n",
       "      <th>3</th>\n",
       "      <td>KIF26A</td>\n",
       "      <td>13.1958</td>\n",
       "      <td>6.4639</td>\n",
       "      <td>25.0781</td>\n",
       "      <td>gene 4</td>\n",
       "    </tr>\n",
       "    <tr>\n",
       "      <th>4</th>\n",
       "      <td>SLC25A2</td>\n",
       "      <td>8.9253</td>\n",
       "      <td>20.3371</td>\n",
       "      <td>32.4341</td>\n",
       "      <td>gene 5</td>\n",
       "    </tr>\n",
       "    <tr>\n",
       "      <th>...</th>\n",
       "      <td>...</td>\n",
       "      <td>...</td>\n",
       "      <td>...</td>\n",
       "      <td>...</td>\n",
       "      <td>...</td>\n",
       "    </tr>\n",
       "    <tr>\n",
       "      <th>95</th>\n",
       "      <td>HSPA8</td>\n",
       "      <td>7.8466</td>\n",
       "      <td>10.3099</td>\n",
       "      <td>13.8147</td>\n",
       "      <td>gene 96</td>\n",
       "    </tr>\n",
       "    <tr>\n",
       "      <th>96</th>\n",
       "      <td>COL4A2</td>\n",
       "      <td>7.3030</td>\n",
       "      <td>30.2128</td>\n",
       "      <td>16.9989</td>\n",
       "      <td>gene 97</td>\n",
       "    </tr>\n",
       "    <tr>\n",
       "      <th>97</th>\n",
       "      <td>ODAD4</td>\n",
       "      <td>4.3629</td>\n",
       "      <td>10.9232</td>\n",
       "      <td>16.0526</td>\n",
       "      <td>gene 98</td>\n",
       "    </tr>\n",
       "    <tr>\n",
       "      <th>98</th>\n",
       "      <td>GLI2</td>\n",
       "      <td>5.8833</td>\n",
       "      <td>21.0743</td>\n",
       "      <td>45.0472</td>\n",
       "      <td>gene 99</td>\n",
       "    </tr>\n",
       "    <tr>\n",
       "      <th>99</th>\n",
       "      <td>NCAPG</td>\n",
       "      <td>8.2104</td>\n",
       "      <td>6.8470</td>\n",
       "      <td>6.5554</td>\n",
       "      <td>gene 100</td>\n",
       "    </tr>\n",
       "  </tbody>\n",
       "</table>\n",
       "<p>100 rows × 5 columns</p>\n",
       "</div>"
      ],
      "text/plain": [
       "   Hugo_Symbol  cell type 1  cell type 2  cell type 3 Entrez_Gene_Id\n",
       "0        ZNRF3      85.1370      13.7235      15.1833         gene 1\n",
       "1        TARS3       1.3809       2.6789       4.1686         gene 2\n",
       "2       TCIRG1      47.3944      13.9389      17.8215         gene 3\n",
       "3       KIF26A      13.1958       6.4639      25.0781         gene 4\n",
       "4      SLC25A2       8.9253      20.3371      32.4341         gene 5\n",
       "..         ...          ...          ...          ...            ...\n",
       "95       HSPA8       7.8466      10.3099      13.8147        gene 96\n",
       "96      COL4A2       7.3030      30.2128      16.9989        gene 97\n",
       "97       ODAD4       4.3629      10.9232      16.0526        gene 98\n",
       "98        GLI2       5.8833      21.0743      45.0472        gene 99\n",
       "99       NCAPG       8.2104       6.8470       6.5554       gene 100\n",
       "\n",
       "[100 rows x 5 columns]"
      ]
     },
     "execution_count": 47,
     "metadata": {},
     "output_type": "execute_result"
    }
   ],
   "source": [
    "df"
   ]
  },
  {
   "cell_type": "code",
   "execution_count": 17,
   "id": "9bea2ae1",
   "metadata": {},
   "outputs": [],
   "source": [
    "# Create a DataFrame\n",
    "df = pd.DataFrame(cell_type_profiles_per_patient[0].T, index=genes, columns=[\"cell type 1\", \"cell type 2\" , \"cell type 3\"])\n",
    "\n",
    "# Save the DataFrame to a CSV file\n",
    "df.to_csv(\"signature_matrix_one_patient.csv\")"
   ]
  },
  {
   "cell_type": "code",
   "execution_count": 45,
   "id": "afec4c77",
   "metadata": {},
   "outputs": [
    {
     "data": {
      "text/html": [
       "<div>\n",
       "<style scoped>\n",
       "    .dataframe tbody tr th:only-of-type {\n",
       "        vertical-align: middle;\n",
       "    }\n",
       "\n",
       "    .dataframe tbody tr th {\n",
       "        vertical-align: top;\n",
       "    }\n",
       "\n",
       "    .dataframe thead th {\n",
       "        text-align: right;\n",
       "    }\n",
       "</style>\n",
       "<table border=\"1\" class=\"dataframe\">\n",
       "  <thead>\n",
       "    <tr style=\"text-align: right;\">\n",
       "      <th></th>\n",
       "      <th>Hugo_Symbol</th>\n",
       "      <th>cell type 1</th>\n",
       "      <th>cell type 2</th>\n",
       "      <th>cell type 3</th>\n",
       "      <th>Entrez_Gene_Id</th>\n",
       "    </tr>\n",
       "  </thead>\n",
       "  <tbody>\n",
       "    <tr>\n",
       "      <th>0</th>\n",
       "      <td>ZNRF3</td>\n",
       "      <td>85.1370</td>\n",
       "      <td>13.7235</td>\n",
       "      <td>15.1833</td>\n",
       "      <td>gene 1</td>\n",
       "    </tr>\n",
       "    <tr>\n",
       "      <th>1</th>\n",
       "      <td>TARS3</td>\n",
       "      <td>1.3809</td>\n",
       "      <td>2.6789</td>\n",
       "      <td>4.1686</td>\n",
       "      <td>gene 2</td>\n",
       "    </tr>\n",
       "    <tr>\n",
       "      <th>2</th>\n",
       "      <td>TCIRG1</td>\n",
       "      <td>47.3944</td>\n",
       "      <td>13.9389</td>\n",
       "      <td>17.8215</td>\n",
       "      <td>gene 3</td>\n",
       "    </tr>\n",
       "    <tr>\n",
       "      <th>3</th>\n",
       "      <td>KIF26A</td>\n",
       "      <td>13.1958</td>\n",
       "      <td>6.4639</td>\n",
       "      <td>25.0781</td>\n",
       "      <td>gene 4</td>\n",
       "    </tr>\n",
       "    <tr>\n",
       "      <th>4</th>\n",
       "      <td>SLC25A2</td>\n",
       "      <td>8.9253</td>\n",
       "      <td>20.3371</td>\n",
       "      <td>32.4341</td>\n",
       "      <td>gene 5</td>\n",
       "    </tr>\n",
       "    <tr>\n",
       "      <th>...</th>\n",
       "      <td>...</td>\n",
       "      <td>...</td>\n",
       "      <td>...</td>\n",
       "      <td>...</td>\n",
       "      <td>...</td>\n",
       "    </tr>\n",
       "    <tr>\n",
       "      <th>95</th>\n",
       "      <td>HSPA8</td>\n",
       "      <td>7.8466</td>\n",
       "      <td>10.3099</td>\n",
       "      <td>13.8147</td>\n",
       "      <td>gene 96</td>\n",
       "    </tr>\n",
       "    <tr>\n",
       "      <th>96</th>\n",
       "      <td>COL4A2</td>\n",
       "      <td>7.3030</td>\n",
       "      <td>30.2128</td>\n",
       "      <td>16.9989</td>\n",
       "      <td>gene 97</td>\n",
       "    </tr>\n",
       "    <tr>\n",
       "      <th>97</th>\n",
       "      <td>ODAD4</td>\n",
       "      <td>4.3629</td>\n",
       "      <td>10.9232</td>\n",
       "      <td>16.0526</td>\n",
       "      <td>gene 98</td>\n",
       "    </tr>\n",
       "    <tr>\n",
       "      <th>98</th>\n",
       "      <td>GLI2</td>\n",
       "      <td>5.8833</td>\n",
       "      <td>21.0743</td>\n",
       "      <td>45.0472</td>\n",
       "      <td>gene 99</td>\n",
       "    </tr>\n",
       "    <tr>\n",
       "      <th>99</th>\n",
       "      <td>NCAPG</td>\n",
       "      <td>8.2104</td>\n",
       "      <td>6.8470</td>\n",
       "      <td>6.5554</td>\n",
       "      <td>gene 100</td>\n",
       "    </tr>\n",
       "  </tbody>\n",
       "</table>\n",
       "<p>100 rows × 5 columns</p>\n",
       "</div>"
      ],
      "text/plain": [
       "   Hugo_Symbol  cell type 1  cell type 2  cell type 3 Entrez_Gene_Id\n",
       "0        ZNRF3      85.1370      13.7235      15.1833         gene 1\n",
       "1        TARS3       1.3809       2.6789       4.1686         gene 2\n",
       "2       TCIRG1      47.3944      13.9389      17.8215         gene 3\n",
       "3       KIF26A      13.1958       6.4639      25.0781         gene 4\n",
       "4      SLC25A2       8.9253      20.3371      32.4341         gene 5\n",
       "..         ...          ...          ...          ...            ...\n",
       "95       HSPA8       7.8466      10.3099      13.8147        gene 96\n",
       "96      COL4A2       7.3030      30.2128      16.9989        gene 97\n",
       "97       ODAD4       4.3629      10.9232      16.0526        gene 98\n",
       "98        GLI2       5.8833      21.0743      45.0472        gene 99\n",
       "99       NCAPG       8.2104       6.8470       6.5554       gene 100\n",
       "\n",
       "[100 rows x 5 columns]"
      ]
     },
     "execution_count": 45,
     "metadata": {},
     "output_type": "execute_result"
    }
   ],
   "source": [
    "df"
   ]
  },
  {
   "cell_type": "code",
   "execution_count": 39,
   "id": "723dd2b2",
   "metadata": {},
   "outputs": [],
   "source": [
    "# Create a DataFrame\n",
    "df = pd.DataFrame(bulk_counts_per_patient.T, index=genes, columns=patients)\n",
    "df.index.name=\"Hugo_Symbol\"\n",
    "df=df.reset_index()\n",
    "df['Entrez_Gene_Id']=genes_entrez\n",
    "#df.set_index('Entrez_Gene_Id', inplace=True)\n",
    "# Save the DataFrame to a CSV file\n",
    "#df.to_csv(\"data/bulk_counts.csv\")\n",
    "df.to_csv('data/bulk_counts.tsv', sep='\\t',index=False)"
   ]
  },
  {
   "cell_type": "markdown",
   "id": "2a0bd266",
   "metadata": {},
   "source": [
    "# Try TumorDecon"
   ]
  },
  {
   "cell_type": "markdown",
   "id": "ede6871d",
   "metadata": {},
   "source": [
    "### As in the tutorial in https://people.math.umass.edu/~aronow/TumorDecon/quickstart.html#tutorial"
   ]
  },
  {
   "cell_type": "code",
   "execution_count": 64,
   "id": "71e04da7",
   "metadata": {},
   "outputs": [],
   "source": [
    "# Location of sample data (included with the TumorDecon package):\n",
    "data_loc = \"./data/\"\n",
    "# Read in sample data (original source - Colorectal Adenocarcinoma RNA Seq v2 from cBioPortal.org):\n",
    "rna = td.read_rna_file(data_loc+'bulk_counts.tsv',identifier='hugo',fetch_missing_hugo=False)\n"
   ]
  },
  {
   "cell_type": "code",
   "execution_count": 65,
   "id": "0f593d88",
   "metadata": {},
   "outputs": [],
   "source": [
    "signature=td.read_sig_file(data_loc+\"signature_matrix.tsv\")"
   ]
  },
  {
   "cell_type": "code",
   "execution_count": 67,
   "id": "75294e34",
   "metadata": {},
   "outputs": [
    {
     "name": "stdout",
     "output_type": "stream",
     "text": [
      "Running CiberSort...\n",
      "CiberSort has completed!\n"
     ]
    }
   ],
   "source": [
    "ciber_freqs = td.tumor_deconvolve(rna, 'cibersort',  patient_IDs='ALL', sig_matrix=signature, args={'nu':'best', 'scaling':'minmax'})\n"
   ]
  },
  {
   "cell_type": "code",
   "execution_count": 68,
   "id": "f07bb685",
   "metadata": {},
   "outputs": [
    {
     "data": {
      "text/html": [
       "<div>\n",
       "<style scoped>\n",
       "    .dataframe tbody tr th:only-of-type {\n",
       "        vertical-align: middle;\n",
       "    }\n",
       "\n",
       "    .dataframe tbody tr th {\n",
       "        vertical-align: top;\n",
       "    }\n",
       "\n",
       "    .dataframe thead th {\n",
       "        text-align: right;\n",
       "    }\n",
       "</style>\n",
       "<table border=\"1\" class=\"dataframe\">\n",
       "  <thead>\n",
       "    <tr style=\"text-align: right;\">\n",
       "      <th>Patient_ID</th>\n",
       "      <th>cell type 1</th>\n",
       "      <th>cell type 2</th>\n",
       "      <th>cell type 3</th>\n",
       "    </tr>\n",
       "  </thead>\n",
       "  <tbody>\n",
       "    <tr>\n",
       "      <th>patient 1</th>\n",
       "      <td>0.523464</td>\n",
       "      <td>0.220355</td>\n",
       "      <td>0.256182</td>\n",
       "    </tr>\n",
       "    <tr>\n",
       "      <th>patient 2</th>\n",
       "      <td>0.458384</td>\n",
       "      <td>0.272144</td>\n",
       "      <td>0.269472</td>\n",
       "    </tr>\n",
       "    <tr>\n",
       "      <th>patient 3</th>\n",
       "      <td>0.512667</td>\n",
       "      <td>0.205613</td>\n",
       "      <td>0.281721</td>\n",
       "    </tr>\n",
       "    <tr>\n",
       "      <th>patient 4</th>\n",
       "      <td>0.519566</td>\n",
       "      <td>0.207037</td>\n",
       "      <td>0.273396</td>\n",
       "    </tr>\n",
       "    <tr>\n",
       "      <th>patient 5</th>\n",
       "      <td>0.496914</td>\n",
       "      <td>0.231775</td>\n",
       "      <td>0.271311</td>\n",
       "    </tr>\n",
       "    <tr>\n",
       "      <th>patient 6</th>\n",
       "      <td>0.527356</td>\n",
       "      <td>0.228447</td>\n",
       "      <td>0.244197</td>\n",
       "    </tr>\n",
       "    <tr>\n",
       "      <th>patient 7</th>\n",
       "      <td>0.505382</td>\n",
       "      <td>0.240672</td>\n",
       "      <td>0.253946</td>\n",
       "    </tr>\n",
       "    <tr>\n",
       "      <th>patient 8</th>\n",
       "      <td>0.496009</td>\n",
       "      <td>0.248513</td>\n",
       "      <td>0.255479</td>\n",
       "    </tr>\n",
       "    <tr>\n",
       "      <th>patient 9</th>\n",
       "      <td>0.469061</td>\n",
       "      <td>0.243827</td>\n",
       "      <td>0.287113</td>\n",
       "    </tr>\n",
       "    <tr>\n",
       "      <th>patient 10</th>\n",
       "      <td>0.517560</td>\n",
       "      <td>0.224312</td>\n",
       "      <td>0.258128</td>\n",
       "    </tr>\n",
       "  </tbody>\n",
       "</table>\n",
       "</div>"
      ],
      "text/plain": [
       "Patient_ID  cell type 1  cell type 2  cell type 3\n",
       "patient 1      0.523464     0.220355     0.256182\n",
       "patient 2      0.458384     0.272144     0.269472\n",
       "patient 3      0.512667     0.205613     0.281721\n",
       "patient 4      0.519566     0.207037     0.273396\n",
       "patient 5      0.496914     0.231775     0.271311\n",
       "patient 6      0.527356     0.228447     0.244197\n",
       "patient 7      0.505382     0.240672     0.253946\n",
       "patient 8      0.496009     0.248513     0.255479\n",
       "patient 9      0.469061     0.243827     0.287113\n",
       "patient 10     0.517560     0.224312     0.258128"
      ]
     },
     "execution_count": 68,
     "metadata": {},
     "output_type": "execute_result"
    }
   ],
   "source": [
    "ciber_freqs"
   ]
  },
  {
   "cell_type": "markdown",
   "id": "a377f24c",
   "metadata": {},
   "source": [
    "# Mix them together -> Try to fake a pipeline "
   ]
  }
 ],
 "metadata": {
  "kernelspec": {
   "display_name": "Python 3 (ipykernel)",
   "language": "python",
   "name": "python3"
  },
  "language_info": {
   "codemirror_mode": {
    "name": "ipython",
    "version": 3
   },
   "file_extension": ".py",
   "mimetype": "text/x-python",
   "name": "python",
   "nbconvert_exporter": "python",
   "pygments_lexer": "ipython3",
   "version": "3.10.6"
  }
 },
 "nbformat": 4,
 "nbformat_minor": 5
}
